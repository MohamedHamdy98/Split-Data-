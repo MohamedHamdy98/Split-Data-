{
 "cells": [
  {
   "cell_type": "code",
   "execution_count": 1,
   "id": "9fa281f8",
   "metadata": {},
   "outputs": [],
   "source": [
    "import splitfolders"
   ]
  },
  {
   "cell_type": "code",
   "execution_count": 4,
   "id": "e23e99ce",
   "metadata": {},
   "outputs": [],
   "source": [
    "path = r'C:\\Users\\Mohamed Hamde\\OneDrive - Culture and Science City\\Desktop\\final project\\fruit_dataset\\fruit data'"
   ]
  },
  {
   "cell_type": "code",
   "execution_count": 5,
   "id": "c48cd10d",
   "metadata": {},
   "outputs": [
    {
     "name": "stderr",
     "output_type": "stream",
     "text": [
      "Copying files: 13599 files [00:45, 295.65 files/s]\n"
     ]
    }
   ],
   "source": [
    "splitfolders.ratio(path,output='fruits_dataset',seed=42,ratio=(.7,.2,.1),group_prefix=None)"
   ]
  },
  {
   "cell_type": "code",
   "execution_count": 16,
   "id": "5b109554",
   "metadata": {},
   "outputs": [
    {
     "name": "stderr",
     "output_type": "stream",
     "text": [
      "Copying files: 1680 files [00:01, 1120.20 files/s]\n"
     ]
    }
   ],
   "source": [
    "splitfolders.fixed(path,output='SheepFaceImages2',seed=42,fixed=(150,150),oversample=False,group_prefix=None)"
   ]
  },
  {
   "cell_type": "code",
   "execution_count": null,
   "id": "c138a83a",
   "metadata": {},
   "outputs": [],
   "source": []
  },
  {
   "cell_type": "code",
   "execution_count": null,
   "id": "2fa7d752",
   "metadata": {},
   "outputs": [],
   "source": [
    "from zipfile import ZipFile "
   ]
  },
  {
   "cell_type": "code",
   "execution_count": null,
   "id": "54877520",
   "metadata": {},
   "outputs": [],
   "source": [
    "with ZipFile ('drive/MyDrive/mri.zip', 'r') as zipObj:\n",
    "  zipObj.extractall('drive/MyDrive/MRI')"
   ]
  }
 ],
 "metadata": {
  "kernelspec": {
   "display_name": "Python 3 (ipykernel)",
   "language": "python",
   "name": "python3"
  },
  "language_info": {
   "codemirror_mode": {
    "name": "ipython",
    "version": 3
   },
   "file_extension": ".py",
   "mimetype": "text/x-python",
   "name": "python",
   "nbconvert_exporter": "python",
   "pygments_lexer": "ipython3",
   "version": "3.11.5"
  }
 },
 "nbformat": 4,
 "nbformat_minor": 5
}
